{
 "cells": [
  {
   "cell_type": "markdown",
   "id": "e2b47529",
   "metadata": {
    "papermill": {
     "duration": 0.004421,
     "end_time": "2023-07-20T05:20:54.571165",
     "exception": false,
     "start_time": "2023-07-20T05:20:54.566744",
     "status": "completed"
    },
    "tags": []
   },
   "source": [
    "# Datasets and Data Loaders"
   ]
  },
  {
   "cell_type": "markdown",
   "id": "0d129e4c",
   "metadata": {
    "papermill": {
     "duration": 0.002905,
     "end_time": "2023-07-20T05:20:54.577412",
     "exception": false,
     "start_time": "2023-07-20T05:20:54.574507",
     "status": "completed"
    },
    "tags": []
   },
   "source": [
    "PyTorch domain libraries provide a number of pre-loaded datasets (such as FashionMNIST) that subclass torch.utils.data.Dataset and implement functions specific to the particular data. They can be used to prototype and benchmark your model."
   ]
  },
  {
   "cell_type": "markdown",
   "id": "5c8e3c35",
   "metadata": {
    "papermill": {
     "duration": 0.00269,
     "end_time": "2023-07-20T05:20:54.583466",
     "exception": false,
     "start_time": "2023-07-20T05:20:54.580776",
     "status": "completed"
    },
    "tags": []
   },
   "source": [
    "Fashion-MNIST is a dataset of Zalando’s article images consisting of 60,000 training examples and 10,000 test examples. Each example comprises a 28×28 grayscale image and an associated label from one of 10 classes.\n",
    "\n",
    "We load the FashionMNIST Dataset with the following parameters:\n",
    "\n",
    "* root is the path where the train/test data is stored,\n",
    "\n",
    "* train specifies training or test dataset,\n",
    "\n",
    "* download=True downloads the data from the internet if it’s not available at root.\n",
    "\n",
    "* transform and target_transform specify the feature and label transformations"
   ]
  },
  {
   "cell_type": "markdown",
   "id": "a1a71bda",
   "metadata": {
    "papermill": {
     "duration": 0.00314,
     "end_time": "2023-07-20T05:20:54.590124",
     "exception": false,
     "start_time": "2023-07-20T05:20:54.586984",
     "status": "completed"
    },
    "tags": []
   },
   "source": [
    "## Import Dependencies"
   ]
  },
  {
   "cell_type": "code",
   "execution_count": 1,
   "id": "bacd2e6f",
   "metadata": {
    "execution": {
     "iopub.execute_input": "2023-07-20T05:20:54.598213Z",
     "iopub.status.busy": "2023-07-20T05:20:54.597770Z",
     "iopub.status.idle": "2023-07-20T05:20:58.667139Z",
     "shell.execute_reply": "2023-07-20T05:20:58.665509Z"
    },
    "papermill": {
     "duration": 4.076325,
     "end_time": "2023-07-20T05:20:58.669569",
     "exception": false,
     "start_time": "2023-07-20T05:20:54.593244",
     "status": "completed"
    },
    "tags": []
   },
   "outputs": [],
   "source": [
    "import torch\n",
    "from torch.utils.data import Dataset\n",
    "from torchvision import datasets\n",
    "from torchvision.transforms import ToTensor\n",
    "import matplotlib.pyplot as plt"
   ]
  },
  {
   "cell_type": "code",
   "execution_count": 2,
   "id": "e84b16b9",
   "metadata": {
    "execution": {
     "iopub.execute_input": "2023-07-20T05:20:58.678447Z",
     "iopub.status.busy": "2023-07-20T05:20:58.677216Z",
     "iopub.status.idle": "2023-07-20T05:21:03.625419Z",
     "shell.execute_reply": "2023-07-20T05:21:03.623849Z"
    },
    "papermill": {
     "duration": 4.954459,
     "end_time": "2023-07-20T05:21:03.627518",
     "exception": false,
     "start_time": "2023-07-20T05:20:58.673059",
     "status": "completed"
    },
    "tags": []
   },
   "outputs": [
    {
     "name": "stdout",
     "output_type": "stream",
     "text": [
      "Downloading http://fashion-mnist.s3-website.eu-central-1.amazonaws.com/train-images-idx3-ubyte.gz\n",
      "Downloading http://fashion-mnist.s3-website.eu-central-1.amazonaws.com/train-images-idx3-ubyte.gz to data/FashionMNIST/raw/train-images-idx3-ubyte.gz\n"
     ]
    },
    {
     "name": "stderr",
     "output_type": "stream",
     "text": [
      "100%|██████████| 26421880/26421880 [00:01<00:00, 16711341.82it/s]\n"
     ]
    },
    {
     "name": "stdout",
     "output_type": "stream",
     "text": [
      "Extracting data/FashionMNIST/raw/train-images-idx3-ubyte.gz to data/FashionMNIST/raw\n",
      "\n",
      "Downloading http://fashion-mnist.s3-website.eu-central-1.amazonaws.com/train-labels-idx1-ubyte.gz\n",
      "Downloading http://fashion-mnist.s3-website.eu-central-1.amazonaws.com/train-labels-idx1-ubyte.gz to data/FashionMNIST/raw/train-labels-idx1-ubyte.gz\n"
     ]
    },
    {
     "name": "stderr",
     "output_type": "stream",
     "text": [
      "100%|██████████| 29515/29515 [00:00<00:00, 302398.24it/s]\n"
     ]
    },
    {
     "name": "stdout",
     "output_type": "stream",
     "text": [
      "Extracting data/FashionMNIST/raw/train-labels-idx1-ubyte.gz to data/FashionMNIST/raw\n",
      "\n",
      "Downloading http://fashion-mnist.s3-website.eu-central-1.amazonaws.com/t10k-images-idx3-ubyte.gz\n",
      "Downloading http://fashion-mnist.s3-website.eu-central-1.amazonaws.com/t10k-images-idx3-ubyte.gz to data/FashionMNIST/raw/t10k-images-idx3-ubyte.gz\n"
     ]
    },
    {
     "name": "stderr",
     "output_type": "stream",
     "text": [
      "100%|██████████| 4422102/4422102 [00:00<00:00, 5597280.16it/s]\n"
     ]
    },
    {
     "name": "stdout",
     "output_type": "stream",
     "text": [
      "Extracting data/FashionMNIST/raw/t10k-images-idx3-ubyte.gz to data/FashionMNIST/raw\n",
      "\n",
      "Downloading http://fashion-mnist.s3-website.eu-central-1.amazonaws.com/t10k-labels-idx1-ubyte.gz\n",
      "Downloading http://fashion-mnist.s3-website.eu-central-1.amazonaws.com/t10k-labels-idx1-ubyte.gz to data/FashionMNIST/raw/t10k-labels-idx1-ubyte.gz\n"
     ]
    },
    {
     "name": "stderr",
     "output_type": "stream",
     "text": [
      "100%|██████████| 5148/5148 [00:00<00:00, 7128516.67it/s]"
     ]
    },
    {
     "name": "stdout",
     "output_type": "stream",
     "text": [
      "Extracting data/FashionMNIST/raw/t10k-labels-idx1-ubyte.gz to data/FashionMNIST/raw\n",
      "\n"
     ]
    },
    {
     "name": "stderr",
     "output_type": "stream",
     "text": [
      "\n"
     ]
    }
   ],
   "source": [
    "training_data = datasets.FashionMNIST(\n",
    "    root=\"data\",\n",
    "    train=True,\n",
    "    download=True,\n",
    "    transform=ToTensor()\n",
    ")\n",
    "\n",
    "test_data = datasets.FashionMNIST(\n",
    "    root=\"data\",\n",
    "    train=False,\n",
    "    download=True,\n",
    "    transform=ToTensor()\n",
    ")"
   ]
  },
  {
   "cell_type": "markdown",
   "id": "ffce7787",
   "metadata": {
    "papermill": {
     "duration": 0.005649,
     "end_time": "2023-07-20T05:21:03.639365",
     "exception": false,
     "start_time": "2023-07-20T05:21:03.633716",
     "status": "completed"
    },
    "tags": []
   },
   "source": [
    "## Iterating and Visualizing the Dataset"
   ]
  },
  {
   "cell_type": "code",
   "execution_count": 3,
   "id": "f7208589",
   "metadata": {
    "execution": {
     "iopub.execute_input": "2023-07-20T05:21:03.652337Z",
     "iopub.status.busy": "2023-07-20T05:21:03.652020Z",
     "iopub.status.idle": "2023-07-20T05:21:04.336935Z",
     "shell.execute_reply": "2023-07-20T05:21:04.335399Z"
    },
    "papermill": {
     "duration": 0.695062,
     "end_time": "2023-07-20T05:21:04.340125",
     "exception": false,
     "start_time": "2023-07-20T05:21:03.645063",
     "status": "completed"
    },
    "tags": []
   },
   "outputs": [
    {
     "data": {
      "image/png": "[encoded data removed]",
      "text/plain": [
       "<Figure size 800x800 with 9 Axes>"
      ]
     },
     "metadata": {},
     "output_type": "display_data"
    }
   ],
   "source": [
    "labels_map = {\n",
    "    0: \"T-Shirt\",\n",
    "    1: \"Trouser\",\n",
    "    2: \"Pullover\",\n",
    "    3: \"Dress\",\n",
    "    4: \"Coat\",\n",
    "    5: \"Sandal\",\n",
    "    6: \"Shirt\",\n",
    "    7: \"Sneaker\",\n",
    "    8: \"Bag\",\n",
    "    9: \"Ankle Boot\",\n",
    "}\n",
    "figure = plt.figure(figsize=(8, 8))\n",
    "cols, rows = 3, 3\n",
    "for i in range(1, cols * rows + 1):\n",
    "    sample_idx = torch.randint(len(training_data), size=(1,)).item()\n",
    "    img, label = training_data[sample_idx]\n",
    "    figure.add_subplot(rows, cols, i)\n",
    "    plt.title(labels_map[label])\n",
    "    plt.axis(\"off\")\n",
    "    plt.imshow(img.squeeze(), cmap=\"gray\")\n",
    "plt.show()"
   ]
  },
  {
   "cell_type": "markdown",
   "id": "f3324aa6",
   "metadata": {
    "papermill": {
     "duration": 0.005928,
     "end_time": "2023-07-20T05:21:04.352472",
     "exception": false,
     "start_time": "2023-07-20T05:21:04.346544",
     "status": "completed"
    },
    "tags": []
   },
   "source": [
    "## Creating a Custom Dataset for your files"
   ]
  },
  {
   "cell_type": "code",
   "execution_count": 4,
   "id": "749c3901",
   "metadata": {
    "execution": {
     "iopub.execute_input": "2023-07-20T05:21:04.366741Z",
     "iopub.status.busy": "2023-07-20T05:21:04.366346Z",
     "iopub.status.idle": "2023-07-20T05:21:04.374429Z",
     "shell.execute_reply": "2023-07-20T05:21:04.372861Z"
    },
    "papermill": {
     "duration": 0.017606,
     "end_time": "2023-07-20T05:21:04.376459",
     "exception": false,
     "start_time": "2023-07-20T05:21:04.358853",
     "status": "completed"
    },
    "tags": []
   },
   "outputs": [],
   "source": [
    "import os\n",
    "import pandas as pd\n",
    "from torchvision.io import read_image\n",
    "\n",
    "class CustomImageDataset(Dataset):\n",
    "    def __init__(self, annotations_file, img_dir, transform=None, target_transform=None):\n",
    "        self.img_labels = pd.read_csv(annotations_file)\n",
    "        self.img_dir = img_dir\n",
    "        self.transform = transform\n",
    "        self.target_transform = target_transform\n",
    "\n",
    "    def __len__(self):\n",
    "        return len(self.img_labels)\n",
    "\n",
    "    def __getitem__(self, idx):\n",
    "        img_path = os.path.join(self.img_dir, self.img_labels.iloc[idx, 0])\n",
    "        image = read_image(img_path)\n",
    "        label = self.img_labels.iloc[idx, 1]\n",
    "        if self.transform:\n",
    "            image = self.transform(image)\n",
    "        if self.target_transform:\n",
    "            label = self.target_transform(label)\n",
    "        return image, label"
   ]
  },
  {
   "cell_type": "markdown",
   "id": "bea6fb06",
   "metadata": {
    "papermill": {
     "duration": 0.00729,
     "end_time": "2023-07-20T05:21:04.391395",
     "exception": false,
     "start_time": "2023-07-20T05:21:04.384105",
     "status": "completed"
    },
    "tags": []
   },
   "source": [
    "## Preparing your data for training with DataLoaders"
   ]
  },
  {
   "cell_type": "code",
   "execution_count": 5,
   "id": "810baca7",
   "metadata": {
    "execution": {
     "iopub.execute_input": "2023-07-20T05:21:04.405336Z",
     "iopub.status.busy": "2023-07-20T05:21:04.404914Z",
     "iopub.status.idle": "2023-07-20T05:21:04.411137Z",
     "shell.execute_reply": "2023-07-20T05:21:04.409798Z"
    },
    "papermill": {
     "duration": 0.015777,
     "end_time": "2023-07-20T05:21:04.413184",
     "exception": false,
     "start_time": "2023-07-20T05:21:04.397407",
     "status": "completed"
    },
    "tags": []
   },
   "outputs": [],
   "source": [
    "from torch.utils.data import DataLoader\n",
    "\n",
    "train_dataloader = DataLoader(training_data, batch_size=64, shuffle=True)\n",
    "test_dataloader = DataLoader(test_data, batch_size=64, shuffle=True)"
   ]
  },
  {
   "cell_type": "markdown",
   "id": "ff34f5f6",
   "metadata": {
    "papermill": {
     "duration": 0.005699,
     "end_time": "2023-07-20T05:21:04.424914",
     "exception": false,
     "start_time": "2023-07-20T05:21:04.419215",
     "status": "completed"
    },
    "tags": []
   },
   "source": [
    "## Iterate through the DataLoader"
   ]
  },
  {
   "cell_type": "code",
   "execution_count": 6,
   "id": "8275ad4f",
   "metadata": {
    "execution": {
     "iopub.execute_input": "2023-07-20T05:21:04.443438Z",
     "iopub.status.busy": "2023-07-20T05:21:04.442229Z",
     "iopub.status.idle": "2023-07-20T05:21:04.660909Z",
     "shell.execute_reply": "2023-07-20T05:21:04.659427Z"
    },
    "papermill": {
     "duration": 0.231554,
     "end_time": "2023-07-20T05:21:04.663362",
     "exception": false,
     "start_time": "2023-07-20T05:21:04.431808",
     "status": "completed"
    },
    "tags": []
   },
   "outputs": [
    {
     "name": "stdout",
     "output_type": "stream",
     "text": [
      "Feature batch shape: torch.Size([64, 1, 28, 28])\n",
      "Labels batch shape: torch.Size([64])\n"
     ]
    },
    {
     "data": {
      "image/png": "[encoded data removed]",
      "text/plain": [
       "<Figure size 640x480 with 1 Axes>"
      ]
     },
     "metadata": {},
     "output_type": "display_data"
    },
    {
     "name": "stdout",
     "output_type": "stream",
     "text": [
      "Label: 8\n"
     ]
    }
   ],
   "source": [
    "# Display image and label.\n",
    "train_features, train_labels = next(iter(train_dataloader))\n",
    "print(f\"Feature batch shape: {train_features.size()}\")\n",
    "print(f\"Labels batch shape: {train_labels.size()}\")\n",
    "img = train_features[0].squeeze()\n",
    "label = train_labels[0]\n",
    "plt.imshow(img, cmap=\"gray\")\n",
    "plt.show()\n",
    "print(f\"Label: {label}\")"
   ]
  }
 ],
 "metadata": {
  "kernelspec": {
   "display_name": "Python 3",
   "language": "python",
   "name": "python3"
  },
  "language_info": {
   "codemirror_mode": {
    "name": "ipython",
    "version": 3
   },
   "file_extension": ".py",
   "mimetype": "text/x-python",
   "name": "python",
   "nbconvert_exporter": "python",
   "pygments_lexer": "ipython3",
   "version": "3.10.12"
  },
  "papermill": {
   "default_parameters": {},
   "duration": 20.878618,
   "end_time": "2023-07-20T05:21:06.094783",
   "environment_variables": {},
   "exception": null,
   "input_path": "__notebook__.ipynb",
   "output_path": "__notebook__.ipynb",
   "parameters": {},
   "start_time": "2023-07-20T05:20:45.216165",
   "version": "2.4.0"
  }
 },
 "nbformat": 4,
 "nbformat_minor": 5
}
